{
 "cells": [
  {
   "cell_type": "code",
   "execution_count": 5,
   "id": "2ead1acf",
   "metadata": {
    "execution": {
     "iopub.execute_input": "2025-05-21T12:24:56.441773Z",
     "iopub.status.busy": "2025-05-21T12:24:56.441508Z",
     "iopub.status.idle": "2025-05-21T12:25:19.396157Z",
     "shell.execute_reply": "2025-05-21T12:25:19.395254Z",
     "shell.execute_reply.started": "2025-05-21T12:24:56.441753Z"
    },
    "trusted": true
   },
   "outputs": [],
   "source": [
    "!pip install -q langchain\n",
    "!pip install -q langchain-community\n",
    "!pip install -q langchain-experimental\n",
    "!pip install -q sentence-transformers\n",
    "!pip install -q langchain-chroma\n",
    "!pip install -q --upgrade chromadb\n",
    "!pip install -q -U google-genai"
   ]
  },
  {
   "cell_type": "code",
   "execution_count": null,
   "id": "adf557a5-e40f-4b5a-8777-4070b1357e30",
   "metadata": {
    "trusted": true
   },
   "outputs": [],
   "source": [
    "from langchain.document_loaders import PyPDFLoader\n",
    "import re\n",
    "from langchain.schema import Document\n",
    "from sentence_transformers import SentenceTransformer\n",
    "from langchain.embeddings.base import Embeddings\n",
    "from langchain_chroma import Chroma\n",
    "from chromadb import Settings\n",
    "from google import genai\n",
    "import requests"
   ]
  },
  {
   "cell_type": "code",
   "execution_count": 6,
   "id": "79eb8b32-e62e-4bf1-802a-85eecc1eb0b1",
   "metadata": {
    "execution": {
     "iopub.execute_input": "2025-05-21T12:25:19.398351Z",
     "iopub.status.busy": "2025-05-21T12:25:19.398122Z",
     "iopub.status.idle": "2025-05-21T12:25:21.463738Z",
     "shell.execute_reply": "2025-05-21T12:25:21.463185Z",
     "shell.execute_reply.started": "2025-05-21T12:25:19.398329Z"
    },
    "trusted": true
   },
   "outputs": [],
   "source": [
    "file_path = r\"/kaggle/input/chatbot-rag/data/nghidinh-168.pdf\"\n",
    "loader = PyPDFLoader(file_path)\n",
    "documents = loader.load() # Trả về danh sách các Document (mỗi Document là một trang)"
   ]
  },
  {
   "cell_type": "code",
   "execution_count": 7,
   "id": "1647b140-e8b5-40a4-96e7-a4a69117f5fa",
   "metadata": {
    "execution": {
     "iopub.execute_input": "2025-05-21T12:25:21.465226Z",
     "iopub.status.busy": "2025-05-21T12:25:21.464758Z",
     "iopub.status.idle": "2025-05-21T12:25:21.469431Z",
     "shell.execute_reply": "2025-05-21T12:25:21.468701Z",
     "shell.execute_reply.started": "2025-05-21T12:25:21.465197Z"
    },
    "trusted": true
   },
   "outputs": [
    {
     "name": "stdout",
     "output_type": "stream",
     "text": [
      "CHÍNH PHỦ\n",
      "--------\n",
      "CỘNG HÒA XÃ HỘI CHỦ NGHĨA VIỆT NAM\n",
      "Độc lập - Tự do - Hạnh phúc\n",
      "---------------\n",
      "Số: 168/2024/NĐ-CP Hà Nội, ngày 26 tháng 12 năm 2024\n",
      "NGHỊ ĐỊNH\n",
      "QUY ĐỊNH XỬ PHẠT VI PHẠM HÀNH CHÍNH VỀ TRẬT TỰ, AN TOÀN GIAO THÔNG TRONG\n",
      "LĨNH VỰC GIAO THÔNG ĐƯỜNG BỘ; TRỪ ĐIỂM, PHỤC HỒI ĐIỂM GIẤY PHÉP LÁI XE\n",
      "Căn cứ Luật Tổ chức Chính phủ ngày 19 tháng 6 năm 2015; Luật sửa đổi, bổ sung một số điều của Luật\n",
      "Tổ chức Chính phủ và Luật Tổ chức chính quyền địa phương ngày 22 tháng 11 năm 2019;\n",
      "Căn cứ Luật Xử lý vi phạm hành chính ngày 20 tháng 6 năm 2012; Luật sửa đổi, bổ sung một số điều\n",
      "của Luật Xử lý vi phạm hành chính ngày 15 tháng 11 năm 2020;\n",
      "Căn cứ Luật Trật tự, an toàn giao thông đường bộ ngày 27 tháng 6 năm 2024;\n",
      "Theo đề nghị của Bộ trưởng Bộ Công an;\n",
      "Chính phủ ban hành Nghị định quy định xử phạt vi phạm hành chính về trật tự, an toàn giao thông trong\n",
      "lĩnh vực giao thông đường bộ; trừ điểm, phục hồi điểm giấy phép lái xe.\n",
      "Chương I\n",
      "NHỮNG QUY ĐỊNH CHUNG\n",
      "Điều 1. Phạm vi điều chỉnh\n",
      "1. Nghị định này quy định về:\n",
      "a) Xử phạt vi phạm hành chính về trật tự, an toàn giao thông trong lĩnh vực giao thông đường bộ bao\n",
      "gồm: hành vi vi phạm hành chính; hình thức, mức xử phạt, biện pháp khắc phục hậu quả đối với từng\n",
      "hành vi vi phạm hành chính; thẩm quyền lập biên bản, thẩm quyền xử phạt, mức phạt tiền cụ thể theo\n",
      "từng chức danh đối với hành vi vi phạm hành chính về trật tự, an toàn giao thông trong lĩnh vực giao\n",
      "thông đường bộ;\n",
      "b) Mức trừ điểm giấy phép lái xe đối với từng hành vi vi phạm hành chính; trình tự, thủ tục, thẩm quyền\n",
      "trừ điểm, phục hồi điểm giấy phép lái xe để quản lý việc chấp hành pháp luật về trật tự, an toàn giao\n",
      "thông đường bộ của người lái xe.\n",
      "2. Các hành vi vi phạm hành chính trong lĩnh vực quản lý nhà nước khác liên quan đến trật tự, an toàn\n",
      "giao thông trong lĩnh vực giao thông đường bộ mà không quy định tại Nghị định này thì áp dụng quy\n",
      "định tại các Nghị định quy định về xử phạt vi phạm hành chính trong các lĩnh vực đó để xử phạt.\n",
      "Điều 2. Đối tượng áp dụng\n",
      "1. Cá nhân, tổ chức Việt Nam; cá nhân, tổ chức nước ngoài có hành vi vi phạm hành chính về trật tự, an\n",
      "toàn giao thông trong lĩnh vực giao thông đường bộ trên lãnh thổ nước Cộng hòa xã hội chủ nghĩa Việt\n",
      "Nam.\n",
      "2. Tổ chức quy định tại khoản 1 Điều này bao gồm:\n",
      "a) Cơ quan nhà nước có hành vi vi phạm mà hành vi đó không thuộc nhiệm vụ quản lý nhà nước được\n",
      "giao;\n",
      "b) Đơn vị sự nghiệp công lập;\n",
      "5/15/25, 8:43 PM about:blank\n",
      "about:blank 1/77\n"
     ]
    }
   ],
   "source": [
    "print(documents[0].page_content)"
   ]
  },
  {
   "cell_type": "code",
   "execution_count": 8,
   "id": "aa2a19f9-83d8-48dd-be29-d6f41b5f9996",
   "metadata": {
    "execution": {
     "iopub.execute_input": "2025-05-21T12:25:21.470689Z",
     "iopub.status.busy": "2025-05-21T12:25:21.470406Z",
     "iopub.status.idle": "2025-05-21T12:25:21.486489Z",
     "shell.execute_reply": "2025-05-21T12:25:21.485705Z",
     "shell.execute_reply.started": "2025-05-21T12:25:21.470667Z"
    },
    "trusted": true
   },
   "outputs": [],
   "source": [
    "def clean_text(doc):\n",
    "    \"\"\"\n",
    "    Nhận một đối tượng Document có thuộc tính page_content.\n",
    "    Làm sạch nội dung văn bản bằng cách:\n",
    "    - Xoá \"about:blank\"\n",
    "    - Xoá chuỗi ngày giờ định sẵn \"5/15/25, 8:43 PM\"\n",
    "    - Loại bỏ khoảng trắng thừa\n",
    "    \"\"\"\n",
    "    text = doc.page_content\n",
    "    text = re.sub(r'about:blank', '', text)\n",
    "    text = re.sub(r'5/15/25, 8:43 PM', '', text)\n",
    "    doc.page_content = text.strip()\n",
    "    return doc\n"
   ]
  },
  {
   "cell_type": "code",
   "execution_count": 9,
   "id": "092494ad-ac76-4372-a91c-10451e168aa7",
   "metadata": {
    "execution": {
     "iopub.execute_input": "2025-05-21T12:25:21.488860Z",
     "iopub.status.busy": "2025-05-21T12:25:21.488654Z",
     "iopub.status.idle": "2025-05-21T12:25:21.503325Z",
     "shell.execute_reply": "2025-05-21T12:25:21.502601Z",
     "shell.execute_reply.started": "2025-05-21T12:25:21.488844Z"
    },
    "trusted": true
   },
   "outputs": [],
   "source": [
    "# Làm sạch từng Document\n",
    "documents = [clean_text(doc) for doc in documents]"
   ]
  },
  {
   "cell_type": "code",
   "execution_count": 10,
   "id": "517a85bb-4153-4ec9-851b-095deb5ac6b9",
   "metadata": {
    "execution": {
     "iopub.execute_input": "2025-05-21T12:25:21.504187Z",
     "iopub.status.busy": "2025-05-21T12:25:21.503948Z",
     "iopub.status.idle": "2025-05-21T12:25:21.518370Z",
     "shell.execute_reply": "2025-05-21T12:25:21.517739Z",
     "shell.execute_reply.started": "2025-05-21T12:25:21.504172Z"
    },
    "trusted": true
   },
   "outputs": [
    {
     "name": "stdout",
     "output_type": "stream",
     "text": [
      "CHÍNH PHỦ\n",
      "--------\n",
      "CỘNG HÒA XÃ HỘI CHỦ NGHĨA VIỆT NAM\n",
      "Độc lập - Tự do - Hạnh phúc\n",
      "---------------\n",
      "Số: 168/2024/NĐ-CP Hà Nội, ngày 26 tháng 12 năm 2024\n",
      "NGHỊ ĐỊNH\n",
      "QUY ĐỊNH XỬ PHẠT VI PHẠM HÀNH CHÍNH VỀ TRẬT TỰ, AN TOÀN GIAO THÔNG TRONG\n",
      "LĨNH VỰC GIAO THÔNG ĐƯỜNG BỘ; TRỪ ĐIỂM, PHỤC HỒI ĐIỂM GIẤY PHÉP LÁI XE\n",
      "Căn cứ Luật Tổ chức Chính phủ ngày 19 tháng 6 năm 2015; Luật sửa đổi, bổ sung một số điều của Luật\n",
      "Tổ chức Chính phủ và Luật Tổ chức chính quyền địa phương ngày 22 tháng 11 năm 2019;\n",
      "Căn cứ Luật Xử lý vi phạm hành chính ngày 20 tháng 6 năm 2012; Luật sửa đổi, bổ sung một số điều\n",
      "của Luật Xử lý vi phạm hành chính ngày 15 tháng 11 năm 2020;\n",
      "Căn cứ Luật Trật tự, an toàn giao thông đường bộ ngày 27 tháng 6 năm 2024;\n",
      "Theo đề nghị của Bộ trưởng Bộ Công an;\n",
      "Chính phủ ban hành Nghị định quy định xử phạt vi phạm hành chính về trật tự, an toàn giao thông trong\n",
      "lĩnh vực giao thông đường bộ; trừ điểm, phục hồi điểm giấy phép lái xe.\n",
      "Chương I\n",
      "NHỮNG QUY ĐỊNH CHUNG\n",
      "Điều 1. Phạm vi điều chỉnh\n",
      "1. Nghị định này quy định về:\n",
      "a) Xử phạt vi phạm hành chính về trật tự, an toàn giao thông trong lĩnh vực giao thông đường bộ bao\n",
      "gồm: hành vi vi phạm hành chính; hình thức, mức xử phạt, biện pháp khắc phục hậu quả đối với từng\n",
      "hành vi vi phạm hành chính; thẩm quyền lập biên bản, thẩm quyền xử phạt, mức phạt tiền cụ thể theo\n",
      "từng chức danh đối với hành vi vi phạm hành chính về trật tự, an toàn giao thông trong lĩnh vực giao\n",
      "thông đường bộ;\n",
      "b) Mức trừ điểm giấy phép lái xe đối với từng hành vi vi phạm hành chính; trình tự, thủ tục, thẩm quyền\n",
      "trừ điểm, phục hồi điểm giấy phép lái xe để quản lý việc chấp hành pháp luật về trật tự, an toàn giao\n",
      "thông đường bộ của người lái xe.\n",
      "2. Các hành vi vi phạm hành chính trong lĩnh vực quản lý nhà nước khác liên quan đến trật tự, an toàn\n",
      "giao thông trong lĩnh vực giao thông đường bộ mà không quy định tại Nghị định này thì áp dụng quy\n",
      "định tại các Nghị định quy định về xử phạt vi phạm hành chính trong các lĩnh vực đó để xử phạt.\n",
      "Điều 2. Đối tượng áp dụng\n",
      "1. Cá nhân, tổ chức Việt Nam; cá nhân, tổ chức nước ngoài có hành vi vi phạm hành chính về trật tự, an\n",
      "toàn giao thông trong lĩnh vực giao thông đường bộ trên lãnh thổ nước Cộng hòa xã hội chủ nghĩa Việt\n",
      "Nam.\n",
      "2. Tổ chức quy định tại khoản 1 Điều này bao gồm:\n",
      "a) Cơ quan nhà nước có hành vi vi phạm mà hành vi đó không thuộc nhiệm vụ quản lý nhà nước được\n",
      "giao;\n",
      "b) Đơn vị sự nghiệp công lập;\n",
      " \n",
      " 1/77\n"
     ]
    }
   ],
   "source": [
    "print(documents[0].page_content)"
   ]
  },
  {
   "cell_type": "code",
   "execution_count": 11,
   "id": "f2c7e6be-d936-4c9a-a753-0580d9999db0",
   "metadata": {
    "execution": {
     "iopub.execute_input": "2025-05-21T12:25:21.519441Z",
     "iopub.status.busy": "2025-05-21T12:25:21.519192Z",
     "iopub.status.idle": "2025-05-21T12:26:05.943114Z",
     "shell.execute_reply": "2025-05-21T12:26:05.941023Z",
     "shell.execute_reply.started": "2025-05-21T12:25:21.519420Z"
    },
    "trusted": true
   },
   "outputs": [
    {
     "name": "stderr",
     "output_type": "stream",
     "text": [
      "2025-05-21 12:25:36.291883: E external/local_xla/xla/stream_executor/cuda/cuda_fft.cc:477] Unable to register cuFFT factory: Attempting to register factory for plugin cuFFT when one has already been registered\n",
      "WARNING: All log messages before absl::InitializeLog() is called are written to STDERR\n",
      "E0000 00:00:1747830336.552085      35 cuda_dnn.cc:8310] Unable to register cuDNN factory: Attempting to register factory for plugin cuDNN when one has already been registered\n",
      "E0000 00:00:1747830336.626010      35 cuda_blas.cc:1418] Unable to register cuBLAS factory: Attempting to register factory for plugin cuBLAS when one has already been registered\n"
     ]
    },
    {
     "data": {
      "application/vnd.jupyter.widget-view+json": {
       "model_id": "a60758dd0ae344e6a542e96c63a06ae9",
       "version_major": 2,
       "version_minor": 0
      },
      "text/plain": [
       "modules.json:   0%|          | 0.00/349 [00:00<?, ?B/s]"
      ]
     },
     "metadata": {},
     "output_type": "display_data"
    },
    {
     "data": {
      "application/vnd.jupyter.widget-view+json": {
       "model_id": "5e7ce1b98707484a9bc57525760a0b79",
       "version_major": 2,
       "version_minor": 0
      },
      "text/plain": [
       "config_sentence_transformers.json:   0%|          | 0.00/171 [00:00<?, ?B/s]"
      ]
     },
     "metadata": {},
     "output_type": "display_data"
    },
    {
     "data": {
      "application/vnd.jupyter.widget-view+json": {
       "model_id": "aeb3f303cdb8492eb712e19cb5f2f41a",
       "version_major": 2,
       "version_minor": 0
      },
      "text/plain": [
       "README.md:   0%|          | 0.00/3.51k [00:00<?, ?B/s]"
      ]
     },
     "metadata": {},
     "output_type": "display_data"
    },
    {
     "data": {
      "application/vnd.jupyter.widget-view+json": {
       "model_id": "c858de340d834ceda662d5c546042063",
       "version_major": 2,
       "version_minor": 0
      },
      "text/plain": [
       "sentence_bert_config.json:   0%|          | 0.00/54.0 [00:00<?, ?B/s]"
      ]
     },
     "metadata": {},
     "output_type": "display_data"
    },
    {
     "data": {
      "application/vnd.jupyter.widget-view+json": {
       "model_id": "415da7be1a60478f9d3d3f1573ff469f",
       "version_major": 2,
       "version_minor": 0
      },
      "text/plain": [
       "config.json:   0%|          | 0.00/708 [00:00<?, ?B/s]"
      ]
     },
     "metadata": {},
     "output_type": "display_data"
    },
    {
     "data": {
      "application/vnd.jupyter.widget-view+json": {
       "model_id": "37638ca6725d45b8bafe87024581d7d1",
       "version_major": 2,
       "version_minor": 0
      },
      "text/plain": [
       "model.safetensors:   0%|          | 0.00/2.27G [00:00<?, ?B/s]"
      ]
     },
     "metadata": {},
     "output_type": "display_data"
    },
    {
     "data": {
      "application/vnd.jupyter.widget-view+json": {
       "model_id": "6e1a6a9efbc84e1ebfae4f0ee536d0b0",
       "version_major": 2,
       "version_minor": 0
      },
      "text/plain": [
       "tokenizer_config.json:   0%|          | 0.00/1.20k [00:00<?, ?B/s]"
      ]
     },
     "metadata": {},
     "output_type": "display_data"
    },
    {
     "data": {
      "application/vnd.jupyter.widget-view+json": {
       "model_id": "ebed119a09d342e5be3ebda7a38e5ac9",
       "version_major": 2,
       "version_minor": 0
      },
      "text/plain": [
       "sentencepiece.bpe.model:   0%|          | 0.00/5.07M [00:00<?, ?B/s]"
      ]
     },
     "metadata": {},
     "output_type": "display_data"
    },
    {
     "data": {
      "application/vnd.jupyter.widget-view+json": {
       "model_id": "0ecc453ff3bd45d0af9ecf68480ccb7c",
       "version_major": 2,
       "version_minor": 0
      },
      "text/plain": [
       "tokenizer.json:   0%|          | 0.00/17.1M [00:00<?, ?B/s]"
      ]
     },
     "metadata": {},
     "output_type": "display_data"
    },
    {
     "data": {
      "application/vnd.jupyter.widget-view+json": {
       "model_id": "ef66468238ea4d9a99e7f453d46cb35a",
       "version_major": 2,
       "version_minor": 0
      },
      "text/plain": [
       "special_tokens_map.json:   0%|          | 0.00/964 [00:00<?, ?B/s]"
      ]
     },
     "metadata": {},
     "output_type": "display_data"
    },
    {
     "data": {
      "application/vnd.jupyter.widget-view+json": {
       "model_id": "31669b60d1b246509531909d17415885",
       "version_major": 2,
       "version_minor": 0
      },
      "text/plain": [
       "config.json:   0%|          | 0.00/297 [00:00<?, ?B/s]"
      ]
     },
     "metadata": {},
     "output_type": "display_data"
    }
   ],
   "source": [
    "# ==== Embedding Model ====\n",
    "class CustomSentenceTransformerEmbeddings(Embeddings):\n",
    "    def __init__(self, model_id='AITeamVN/Vietnamese_Embedding'):\n",
    "        self.model = SentenceTransformer(model_id, trust_remote_code=True)\n",
    "\n",
    "    def embed_documents(self, texts):\n",
    "        return self.model.encode(texts, convert_to_tensor=False).tolist()\n",
    "\n",
    "    def embed_query(self, text):\n",
    "        return self.model.encode([text], convert_to_tensor=False)[0].tolist()\n",
    "\n",
    "embedding_model = CustomSentenceTransformerEmbeddings()"
   ]
  },
  {
   "cell_type": "code",
   "execution_count": 12,
   "id": "08230d8b-d87f-44be-8328-6bdefe85e2fb",
   "metadata": {
    "execution": {
     "iopub.execute_input": "2025-05-21T12:26:05.945360Z",
     "iopub.status.busy": "2025-05-21T12:26:05.944295Z",
     "iopub.status.idle": "2025-05-21T12:26:05.955767Z",
     "shell.execute_reply": "2025-05-21T12:26:05.955007Z",
     "shell.execute_reply.started": "2025-05-21T12:26:05.945323Z"
    },
    "trusted": true
   },
   "outputs": [],
   "source": [
    "def split_by_chuong_from_documents(documents):\n",
    "    \"\"\"\n",
    "    Tách văn bản từ danh sách documents theo CHƯƠNG.\n",
    "    Trả về danh sách dict gồm 'chuong' và 'content'.\n",
    "    \"\"\"\n",
    "    \n",
    "    # Gộp toàn bộ văn bản sau khi làm sạch\n",
    "    full_text = \"\\n\".join([doc.page_content for doc in documents])\n",
    "    \n",
    "    # Tách theo CHƯƠNG\n",
    "    pattern = r\"(Chương\\s+[IVXLC]+\\s*\\n[^\\n]*)\"\n",
    "    parts = re.split(pattern, full_text)\n",
    "    \n",
    "    chuong_chunks = []\n",
    "    for i in range(1, len(parts), 2):\n",
    "        chuong_title = parts[i].strip()\n",
    "        chuong_content = parts[i+1].strip() if i+1 < len(parts) else \"\"\n",
    "        chuong_chunks.append({\n",
    "            \"chuong\": chuong_title,\n",
    "            \"content\": chuong_content\n",
    "        })\n",
    "    \n",
    "    return chuong_chunks"
   ]
  },
  {
   "cell_type": "code",
   "execution_count": 13,
   "id": "2f23a0f7-47cc-4722-86ba-0cee3f7d2596",
   "metadata": {
    "execution": {
     "iopub.execute_input": "2025-05-21T12:26:05.956670Z",
     "iopub.status.busy": "2025-05-21T12:26:05.956406Z",
     "iopub.status.idle": "2025-05-21T12:26:14.091139Z",
     "shell.execute_reply": "2025-05-21T12:26:14.090185Z",
     "shell.execute_reply.started": "2025-05-21T12:26:05.956648Z"
    },
    "trusted": true
   },
   "outputs": [],
   "source": [
    "chuong_chunks = split_by_chuong_from_documents(documents)"
   ]
  },
  {
   "cell_type": "code",
   "execution_count": 14,
   "id": "1e8de8c1-f8b8-4c2d-aa6c-f720284ace5b",
   "metadata": {
    "execution": {
     "iopub.execute_input": "2025-05-21T12:26:14.092166Z",
     "iopub.status.busy": "2025-05-21T12:26:14.091815Z",
     "iopub.status.idle": "2025-05-21T12:26:14.565851Z",
     "shell.execute_reply": "2025-05-21T12:26:14.565244Z",
     "shell.execute_reply.started": "2025-05-21T12:26:14.092143Z"
    },
    "trusted": true
   },
   "outputs": [
    {
     "name": "stdout",
     "output_type": "stream",
     "text": [
      "Chương I\n",
      "NHỮNG QUY ĐỊNH CHUNG\n",
      "Chương II\n",
      "HÀNH VI VI PHẠM, HÌNH THỨC, MỨC XỬ PHẠT, MỨC TRỪ ĐIỂM GIẤY PHÉP LÁI XE\n",
      "Chương III\n",
      "THẨM QUYỀN, THỦ TỤC XỬ PHẠT, TRỪ ĐIỂM, PHỤC HỒI ĐIỂM GIẤY PHÉP LÁI XE\n",
      "Chương IV\n",
      "ĐIỀU KHOẢN THI HÀNH\n"
     ]
    }
   ],
   "source": [
    "for chuong in chuong_chunks:\n",
    "    print(chuong[\"chuong\"])\n",
    "    # print(chuong[\"content\"][:200])  # In 200 ký tự đầu của nội dung chương"
   ]
  },
  {
   "cell_type": "code",
   "execution_count": 15,
   "id": "f5bf12c9-88f0-4bad-a0f7-1ef8bc91cefa",
   "metadata": {
    "execution": {
     "iopub.execute_input": "2025-05-21T12:26:14.566827Z",
     "iopub.status.busy": "2025-05-21T12:26:14.566567Z",
     "iopub.status.idle": "2025-05-21T12:26:14.579671Z",
     "shell.execute_reply": "2025-05-21T12:26:14.579105Z",
     "shell.execute_reply.started": "2025-05-21T12:26:14.566802Z"
    },
    "trusted": true
   },
   "outputs": [],
   "source": [
    "def split_by_muc(chuong_chunks):\n",
    "    \"\"\"\n",
    "    Tách mỗi chương thành các mục theo định dạng 'Mục 1. TIÊU ĐỀ'.\n",
    "    Nếu chương không có mục, toàn bộ nội dung sẽ nằm trong mục None.\n",
    "    \"\"\"\n",
    "    all_muc_chunks = []\n",
    "    pattern = r\"(Mục\\s+\\d+\\.\\s*[^\\n]*)\"  # Mục 1. ..., Mục 2. ...\n",
    "\n",
    "    for chuong in chuong_chunks:\n",
    "        content = chuong[\"content\"]\n",
    "        parts = re.split(pattern, content)\n",
    "\n",
    "        if len(parts) == 1:\n",
    "            # Không có Mục trong chương\n",
    "            all_muc_chunks.append({\n",
    "                \"chuong\": chuong[\"chuong\"],\n",
    "                \"muc\": None,\n",
    "                \"content\": parts[0].strip()\n",
    "            })\n",
    "        else:\n",
    "            for i in range(1, len(parts), 2):\n",
    "                muc_title = parts[i].strip()\n",
    "                muc_content = parts[i+1].strip() if i+1 < len(parts) else \"\"\n",
    "                all_muc_chunks.append({\n",
    "                    \"chuong\": chuong[\"chuong\"],\n",
    "                    \"muc\": muc_title,\n",
    "                    \"content\": muc_content\n",
    "                })\n",
    "\n",
    "    return all_muc_chunks"
   ]
  },
  {
   "cell_type": "code",
   "execution_count": 16,
   "id": "1c87639d-82f7-49f7-803c-cd70f05be519",
   "metadata": {
    "execution": {
     "iopub.execute_input": "2025-05-21T12:26:14.580642Z",
     "iopub.status.busy": "2025-05-21T12:26:14.580442Z",
     "iopub.status.idle": "2025-05-21T12:26:14.597765Z",
     "shell.execute_reply": "2025-05-21T12:26:14.597236Z",
     "shell.execute_reply.started": "2025-05-21T12:26:14.580622Z"
    },
    "trusted": true
   },
   "outputs": [],
   "source": [
    "muc_chunks = split_by_muc(chuong_chunks)"
   ]
  },
  {
   "cell_type": "code",
   "execution_count": 17,
   "id": "9ef5d58e-cc31-4662-8fae-1d5294f7bcaa",
   "metadata": {
    "execution": {
     "iopub.execute_input": "2025-05-21T12:26:14.598739Z",
     "iopub.status.busy": "2025-05-21T12:26:14.598540Z",
     "iopub.status.idle": "2025-05-21T12:26:14.612553Z",
     "shell.execute_reply": "2025-05-21T12:26:14.611732Z",
     "shell.execute_reply.started": "2025-05-21T12:26:14.598716Z"
    },
    "trusted": true
   },
   "outputs": [
    {
     "name": "stdout",
     "output_type": "stream",
     "text": [
      "None\n",
      "Mục 1. VI PHẠM QUY TẮC GIAO THÔNG ĐƯỜNG BỘ\n",
      "Mục 2. VI PHẠM QUY ĐỊNH VỀ PHƯƠNG TIỆN THAM GIA GIAO THÔNG ĐƯỜNG BỘ\n",
      "Mục 3. VI PHẠM QUY ĐỊNH VỀ NGƯỜI ĐIỀU KHIỂN PHƯƠNG TIỆN THAM GIA GIAO\n",
      "Mục 4. VI PHẠM QUY ĐỊNH VỀ BẢO ĐẢM TRẬT TỰ, AN TOÀN GIAO THÔNG ĐƯỜNG BỘ\n",
      "Mục 5. CÁC VI PHẠM KHÁC LIÊN QUAN ĐẾN TRẬT TỰ, AN TOÀN GIAO THÔNG TRONG\n",
      "Mục 1. THẨM QUYỀN XỬ PHẠT\n",
      "Mục 2. THỦ TỤC XỬ PHẠT\n",
      "Mục 3. TRÌNH TỰ, THỦ TỤC, THẨM QUYỀN TRỪ ĐIỂM, PHỤC HỒI ĐIỂM GIẤY PHÉP\n",
      "None\n"
     ]
    }
   ],
   "source": [
    "for muc in muc_chunks:\n",
    "    print(muc['muc'])"
   ]
  },
  {
   "cell_type": "code",
   "execution_count": 18,
   "id": "a528d9d7-fb92-4b20-8989-5664f3444296",
   "metadata": {
    "execution": {
     "iopub.execute_input": "2025-05-21T12:26:14.615770Z",
     "iopub.status.busy": "2025-05-21T12:26:14.615541Z",
     "iopub.status.idle": "2025-05-21T12:26:14.628875Z",
     "shell.execute_reply": "2025-05-21T12:26:14.628162Z",
     "shell.execute_reply.started": "2025-05-21T12:26:14.615755Z"
    },
    "trusted": true
   },
   "outputs": [],
   "source": [
    "def split_by_dieu(muc_chunks):\n",
    "    \"\"\"\n",
    "    Tách từng mục/chương thành các Điều.\n",
    "    Lấy đúng tiêu đề của điều, kể cả khi tiêu đề xuống dòng, không kết thúc bằng dấu chấm.\n",
    "    \"\"\"\n",
    "    all_dieu_chunks = []\n",
    "    pattern = r\"(?m)^Điều\\s+\\d+\\..*\"\n",
    "\n",
    "    for muc in muc_chunks:\n",
    "        content = muc[\"content\"]\n",
    "        matches = list(re.finditer(pattern, content))\n",
    "\n",
    "        if not matches:\n",
    "            continue  # Không có điều nào\n",
    "\n",
    "        for i in range(len(matches)):\n",
    "            start = matches[i].start()\n",
    "            end = matches[i + 1].start() if i + 1 < len(matches) else len(content)\n",
    "            full_text = content[start:end].strip()\n",
    "\n",
    "            # Ghép dòng đầu tiên (hoặc nhiều dòng đầu tiên) thành tiêu đề cho đến khi gặp dòng trắng hoặc dòng bắt đầu bằng số/khoản\n",
    "            lines = full_text.split('\\n')\n",
    "            title_lines = []\n",
    "            body_lines = []\n",
    "            found_body = False\n",
    "\n",
    "            for line in lines:\n",
    "                if not found_body and (\n",
    "                    re.match(r\"^\\s*\\d+\\.\", line) or  # bắt đầu khoản\n",
    "                    re.match(r\"^\\s*[a-zA-Z]\\)\", line) or  # bắt đầu điểm\n",
    "                    line.strip() == \"\"\n",
    "                ):\n",
    "                    found_body = True\n",
    "                if not found_body:\n",
    "                    title_lines.append(line.strip())\n",
    "                else:\n",
    "                    body_lines.append(line.strip())\n",
    "\n",
    "            dieu_title = \" \".join(title_lines).strip()\n",
    "            dieu_body = \"\\n\".join(body_lines).strip()\n",
    "\n",
    "            all_dieu_chunks.append({\n",
    "                \"chuong\": muc[\"chuong\"],\n",
    "                \"muc\": muc[\"muc\"],\n",
    "                \"dieu\": dieu_title,\n",
    "                \"content\": dieu_body\n",
    "            })\n",
    "\n",
    "    return all_dieu_chunks\n"
   ]
  },
  {
   "cell_type": "code",
   "execution_count": 19,
   "id": "f323a925-49e4-442e-9a66-25d9c294bd8e",
   "metadata": {
    "execution": {
     "iopub.execute_input": "2025-05-21T12:26:14.629836Z",
     "iopub.status.busy": "2025-05-21T12:26:14.629605Z",
     "iopub.status.idle": "2025-05-21T12:26:14.650422Z",
     "shell.execute_reply": "2025-05-21T12:26:14.649656Z",
     "shell.execute_reply.started": "2025-05-21T12:26:14.629814Z"
    },
    "trusted": true
   },
   "outputs": [],
   "source": [
    "dieu_chunks = split_by_dieu(muc_chunks)"
   ]
  },
  {
   "cell_type": "code",
   "execution_count": 20,
   "id": "0d0fb0c0-ed01-4306-a11f-e3bfe5a60075",
   "metadata": {
    "execution": {
     "iopub.execute_input": "2025-05-21T12:26:14.651515Z",
     "iopub.status.busy": "2025-05-21T12:26:14.651254Z",
     "iopub.status.idle": "2025-05-21T12:26:14.666100Z",
     "shell.execute_reply": "2025-05-21T12:26:14.665307Z",
     "shell.execute_reply.started": "2025-05-21T12:26:14.651493Z"
    },
    "trusted": true
   },
   "outputs": [
    {
     "name": "stdout",
     "output_type": "stream",
     "text": [
      "Điều 1. Phạm vi điều chỉnh\n",
      "Điều 2. Đối tượng áp dụng\n",
      "Điều 3. Hình thức xử phạt vi phạm hành chính, biện pháp khắc phục hậu quả; thu hồi giấy phép, chứng chỉ hành nghề\n",
      "Điều 4. Thời hiệu xử phạt vi phạm hành chính; hành vi vi phạm hành chính đã kết thúc, hành vi vi phạm hành chính đang thực hiện\n",
      "Điều 5. Tước quyền sử dụng giấy phép, chứng chỉ hành nghề có thời hạn\n",
      "Điều 6. Xử phạt, trừ điểm giấy phép lái xe của người điều khiển xe ô tô, xe chở người bốn bánh có gắn động cơ, xe chở hàng bốn bánh có gắn động cơ và các loại xe tương tự xe ô tô vi phạm quy tắc giao thông đường bộ\n",
      "Điều 7. Xử phạt, trừ điểm giấy phép lái của người điều khiển xe mô tô, xe gắn máy, các loại xe tương tự xe mô tô và các loại xe tương tự xe gắn máy vi phạm quy tắc giao thông đường bộ\n",
      "Điều 8. Xử phạt người điều khiển xe máy chuyên dùng vi phạm quy tắc giao thông đường bộ\n",
      "Điều 9. Xử phạt người điều khiển xe đạp, xe đạp máy, người điều khiển xe thô sơ khác vi phạm quy tắc giao thông đường bộ\n",
      "Điều 10. Xử phạt người đi bộ vi phạm quy tắc giao thông đường bộ\n",
      "Điều 11. Xử phạt người điều khiển, dẫn dắt vật nuôi, điều khiển xe vật nuôi kéo vi phạm quy tắc giao thông đường bộ\n",
      "Điều 12. Xử phạt, trừ điểm giấy phép lái xe các hành vi vi phạm khác về quy tắc giao thông đường bộ; sử dụng lòng đường, vỉa hè vào mục đích khác\n",
      "Điều 13. Xử phạt, trừ điểm giấy phép lái xe của người điều khiển xe ô tô (bao gồm cả rơ moóc hoặc sơ mi rơ moóc được kéo theo), xe chở người bốn bánh có gắn động cơ, xe chở hàng bốn bánh có gắn động cơ và các loại xe tương tư xe ô tô vi phạm quy định về điều kiện của phương tiện khi tham gia giao thông\n",
      "Điều 14. Xử phạt, trừ điểm giấy phép lái xe của người điều khiển xe mô tô, xe gắn máy, các loại xe tương tự xe mô tô và các loại xe tương tự xe gắn máy vi phạm quy định về điều kiện của phương tiện khi tham gia giao thông\n",
      "Điều 15. Xử phạt người điều khiển xe thô sơ vi phạm quy định về điều kiện của phương tiện khi tham gia giao thông\n",
      "Điều 16. Xử phạt người điều khiển xe máy chuyên dùng (kể cả rơ moóc được kéo theo) vi phạm quy định về điều kiện của phương tiện khi tham gia giao thông\n",
      "Điều 17. Xử phạt, trừ điểm giấy phép lái xe của người điều khiển xe ô tô, máy kéo và các loại xe tương tự xe ô tô vi phạm quy định về bảo vệ môi trường khi tham gia giao thông\n",
      "Điều 18. Xử phạt, trừ điểm giấy phép lái xe các hành vi vi phạm quy định về điều kiện của người điều khiển xe cơ giới\n",
      "Điều 19. Xử phạt các hành vi vi phạm quy định về điều kiện của người điều khiển xe máy chuyên dùng\n",
      "Điều 20. Xử phạt, trừ điểm giấy phép lái xe của người điều khiển xe ô tô chở hành khách, ô tô chở người và các loại xe tương tự xe ô tô chở hành khách vi phạm quy định về bảo đảm trật tự, an toàn giao thông\n",
      "Điều 21. Xử phạt, trừ điểm giấy phép lái xe của người điều khiển xe ô tô tải, máy kéo (bao gồm cả rơ moóc hoặc sơ mi rơ moóc được kéo theo) và các loại xe tương tự xe ô tô vận chuyển hàng hóa vi phạm quy định về bảo đảm trật tự, an toàn giao thông đường bộ với xe ô tô vận chuyển hàng hóa\n",
      "Điều 22. Xử phạt, trừ điểm giấy phép lái xe của người điều khiển xe ô tô thực hiện hành vi vi phạm quy định về vận chuyển hàng siêu trường, siêu trọng\n",
      "Điều 23. Xử phạt, trừ điểm giấy phép lái xe của người điều khiển xe ô tô thực hiện hành vi vi phạm quy định về vận chuyển hàng hóa nguy hiểm\n",
      "Điều 24. Xử phạt, trừ điểm giấy phép lái xe của người điều khiển xe ô tô thực hiện hành vi vi phạm quy định về vận chuyển động vật sống, thực phẩm tươi sống\n",
      "Điều 25. Xử phạt, trừ điểm giấy phép lái xe của người điều khiển xe vệ sinh môi trường, xe ô tô chở phế thải thực hiện hành vi vi phạm quy định về hoạt động vận tải trong đô thị\n",
      "Điều 26. Xử phạt các hành vi vi phạm quy định về trật tự, an toàn giao thông đường bộ trong vận tải đường bộ, dịch vụ hỗ trợ vận tải đường bộ\n",
      "Điều 27. Xử phạt, trừ điểm giấy phép lái xe của người điều khiển xe ô tô kinh doanh vận tải chở trẻ em mầm non, học sinh, xe ô tô kinh doanh vận tải kết hợp với hoạt động đưa đón trẻ em mầm\n",
      "Điều 28. Xử phạt, trừ điểm giấy phép lái xe của người điều khiển xe chở người bốn bánh có gắn động cơ, xe chở hàng bốn bánh có gắn động cơ\n",
      "Điều 29. Xử phạt, trừ điểm giấy phép lái xe của người điều khiển xe cứu hộ giao thông đường bộ\n",
      "Điều 30. Xử phạt, trừ điểm giấy phép lái xe của người điều khiển xe cứu thương\n",
      "Điều 31. Xử phạt hành vi sản xuất, lắp ráp trái phép phương tiện giao thông cơ giới đường bộ; sản xuất, mua, bán biển số xe trái phép\n",
      "Điều 32. Xử phạt, trừ điểm giấy phép lái xe đối với chủ phương tiện vi phạm quy định liên quan đến giao thông đường bộ\n",
      "Điều 33. Xử phạt hành khách đi xe vi phạm quy định về trật tự, an toàn giao thông\n",
      "Điều 34. Xử phạt, trừ điểm giấy phép lái xe của người điều khiển quá khổ giới hạn, xe quá tải trọng, xe bánh xích lưu hành đường bộ (kể cả xe ô tô chở hành khách)\n",
      "Điều 35. Xử phạt, trừ điểm giấy phép lái xe đối với người đua xe trái phép, tổ chức đua xe, xúi giục, cổ vũ đua xe trái phép\n",
      "Điều 36. Xử phạt người điều khiển xe mô tô, xe gắn máy, xe thô sơ thực hiện hành vi vi phạm vận chuyển hành khách, hàng hóa\n",
      "Điều 37. Xử phạt người điều khiển phương tiện giao thông cơ giới đường bộ gắn biển số nước ngoài\n",
      "Điều 38. Xử phạt người điều khiển phương tiện đăng ký hoạt động trong Khu kinh tế thương mại đặc biệt, Khu kinh tế cửa khẩu quốc tế\n",
      "Điều 39. Xử phạt các hành vi vi phạm quy định về đào tạo, sát hạch lái xe\n",
      "Điều 40. Xử phạt các hành vi vi phạm quy định về hoạt động đăng kiểm xe cơ giới, xe máy chuyên dùng, phụ tùng xe cơ giới\n",
      "Điều 41. Phân định thẩm quyền xử phạt vi phạm hành chính về trật tự, an toàn giao thông trong lĩnh vực giao thông đường bộ\n",
      "Điều 42. Thẩm quyền xử phạt của Chủ tịch Ủy ban nhân dân các cấp\n",
      "Điều 43. Thẩm quyền xử phạt của Công an nhân dân\n",
      "Điều 44. Thẩm quyền xử phạt của Thanh tra chuyên ngành\n",
      "Điều 45. Nguyên tắc xác định thẩm quyền xử phạt vi phạm hành chính và áp dụng biện pháp khắc phục hậu quả\n",
      "Điều 46. Thẩm quyền lập biên bản vi phạm hành chính về trật tự, an toàn giao thông trong lĩnh vực giao thông đường bộ\n",
      "Điều 47. Thủ tục xử phạt, nguyên tắc xử phạt đối với chủ phương tiện, người điều khiển phương tiện vi phạm quy định liên quan đến trật tự, an toàn giao thông trong lĩnh vực giao thông đường bộ\n",
      "Điều 48. Tạm giữ phương tiện, giấy tờ có liên quan đến người điều khiển và phương tiện vi phạm\n",
      "Điều 49. Dữ liệu về điểm, trừ điểm, phục hồi điểm giấy phép lái xe Dữ liệu về điểm, trừ điểm, phục hồi điểm giấy phép lái xe được quản lý, lưu trữ trên môi trường điện tử, trong Cơ sở dữ liệu về xử lý vi phạm hành chính về trật tự, an toàn giao thông đường bộ do Bộ Công an xây dựng, quản lý, vận hành.\n",
      "Điều 50. Nguyên tắc, thẩm quyền, trình tự, thủ tục trừ điểm giấy phép lái xe\n",
      "Điều 51. Thẩm quyền, trình tự, thủ tục phục hồi điểm giấy phép lái xe\n",
      "Điều 52. Sửa đổi, bổ sung một số điều của Nghị định số 100/2019/NĐ-CP ngày 30 tháng 12 năm 2019 của Chính phủ quy định xử phạt vi phạm hành chính trong lĩnh vực giao thông đường bộ và đường sắt đã được sửa đổi, bổ sung một số điều theo Nghị định số 123/2021/NĐ-CP ngày 28 tháng 12 năm 2021 của Chính phủ sửa đổi, bổ sung một số điều của các Nghị định quy định xử phạt vi phạm hành chính trong lĩnh vực hàng hải; giao thông đường bộ, đường sắt; hàng không dân dụng\n",
      "Điều 53. Hiệu lực thi hành\n",
      "Điều 54. Điều khoản chuyển tiếp\n",
      "Điều 55. Trách nhiệm thi hành Các Bộ trưởng, Thủ trưởng cơ quan ngang bộ, Thủ trưởng cơ quan thuộc Chính phủ, Chủ tịch Ủy ban nhân dân các tỉnh, thành phố trực thuộc trung ương và các cơ quan, đơn vị có liên quan chịu trách nhiệm thi hành Nghị định này./. Nơi nhận: - Ban Bí thư Trung ương Đảng;- Thủ tướng, các Phó Thủ tướng Chính phủ;- Các bộ, cơ quan ngang bộ, cơ quan thuộc Chính phủ;- HĐND, UBND các tỉnh, thành phố trực thuộc trung ương;- Văn phòng Trung ương và các Ban của Đảng;- Văn phòng Tổng Bí thư;- Văn phòng Chủ tịch nước; TM. CHÍNH PHỦ KT. THỦ TƯỚNG PHÓ THỦ TƯỚNG\n"
     ]
    }
   ],
   "source": [
    "print(f\"----- Tổng cộng có: {len(dieu_chunks)} điều -----\")\n",
    "for dieu in dieu_chunks:\n",
    "    print(dieu['dieu'])"
   ]
  },
  {
   "cell_type": "code",
   "execution_count": 21,
   "id": "4c4ef427-35c0-41d9-9f62-be04936da94a",
   "metadata": {
    "execution": {
     "iopub.execute_input": "2025-05-21T12:26:14.667440Z",
     "iopub.status.busy": "2025-05-21T12:26:14.666920Z",
     "iopub.status.idle": "2025-05-21T12:26:14.684613Z",
     "shell.execute_reply": "2025-05-21T12:26:14.683999Z",
     "shell.execute_reply.started": "2025-05-21T12:26:14.667418Z"
    },
    "trusted": true
   },
   "outputs": [],
   "source": [
    "def split_by_khoan(dieu_chunks):\n",
    "    \"\"\"\n",
    "    Tách từng điều thành các Khoản.\n",
    "    Giữ đúng tiêu đề của Khoản kể cả khi tiêu đề xuống dòng và không có dấu chấm.\n",
    "    \"\"\"\n",
    "    all_khoan_chunks = []\n",
    "    pattern = r\"(?m)^\\s*\\d+\\..*\"\n",
    "\n",
    "    for dieu in dieu_chunks:\n",
    "        content = dieu[\"content\"]\n",
    "        matches = list(re.finditer(pattern, content))\n",
    "\n",
    "        if not matches:\n",
    "            # Không có Khoản, coi toàn bộ nội dung là 1 Khoản không định danh\n",
    "            all_khoan_chunks.append({\n",
    "                \"chuong\": dieu[\"chuong\"],\n",
    "                \"muc\": dieu[\"muc\"],\n",
    "                \"dieu\": dieu[\"dieu\"],\n",
    "                \"khoan\": None,\n",
    "                \"content\": content.strip()\n",
    "            })\n",
    "            continue\n",
    "\n",
    "        for i in range(len(matches)):\n",
    "            start = matches[i].start()\n",
    "            end = matches[i + 1].start() if i + 1 < len(matches) else len(content)\n",
    "            full_text = content[start:end].strip()\n",
    "\n",
    "            # Ghép các dòng đầu để tạo title khoản\n",
    "            lines = full_text.split('\\n')\n",
    "            title_lines = []\n",
    "            body_lines = []\n",
    "            found_body = False\n",
    "\n",
    "            for line in lines:\n",
    "                if not found_body and (\n",
    "                    re.match(r\"^\\s*[a-zA-Z]\\)\", line) or  # điểm\n",
    "                    line.strip() == \"\"  # dòng trắng\n",
    "                ):\n",
    "                    found_body = True\n",
    "                if not found_body:\n",
    "                    title_lines.append(line.strip())\n",
    "                else:\n",
    "                    body_lines.append(line.strip())\n",
    "\n",
    "            khoan_title = \" \".join(title_lines).strip()\n",
    "            khoan_body = \"\\n\".join(body_lines).strip()\n",
    "\n",
    "            all_khoan_chunks.append({\n",
    "                \"chuong\": dieu[\"chuong\"],\n",
    "                \"muc\": dieu[\"muc\"],\n",
    "                \"dieu\": dieu[\"dieu\"],\n",
    "                \"khoan\": khoan_title,\n",
    "                \"content\": khoan_body\n",
    "            })\n",
    "\n",
    "    return all_khoan_chunks"
   ]
  },
  {
   "cell_type": "code",
   "execution_count": 22,
   "id": "5e9bbe77-3234-4a9f-88b6-f13124ac1b78",
   "metadata": {
    "execution": {
     "iopub.execute_input": "2025-05-21T12:26:14.686062Z",
     "iopub.status.busy": "2025-05-21T12:26:14.685771Z",
     "iopub.status.idle": "2025-05-21T12:26:14.706696Z",
     "shell.execute_reply": "2025-05-21T12:26:14.705944Z",
     "shell.execute_reply.started": "2025-05-21T12:26:14.686046Z"
    },
    "trusted": true
   },
   "outputs": [],
   "source": [
    "khoan_chunks = split_by_khoan(dieu_chunks)"
   ]
  },
  {
   "cell_type": "code",
   "execution_count": null,
   "id": "61a9495a-150f-4ba8-80ce-2a597e46cd4b",
   "metadata": {
    "trusted": true
   },
   "outputs": [],
   "source": [
    "print(f\"----- Tổng cộng có: {len(khoan_chunks)} khoản -----\")\n",
    "for khoan in khoan_chunks[:20]:\n",
    "    print(khoan['khoan'])"
   ]
  },
  {
   "cell_type": "code",
   "execution_count": 24,
   "id": "7cf58591-47bc-48e6-b64d-716edb7ec646",
   "metadata": {
    "execution": {
     "iopub.execute_input": "2025-05-21T12:26:14.731219Z",
     "iopub.status.busy": "2025-05-21T12:26:14.730765Z",
     "iopub.status.idle": "2025-05-21T12:26:14.750953Z",
     "shell.execute_reply": "2025-05-21T12:26:14.750402Z",
     "shell.execute_reply.started": "2025-05-21T12:26:14.731199Z"
    },
    "trusted": true
   },
   "outputs": [],
   "source": [
    "def split_by_diem_dynamic_length(khoan_chunks, max_length=1000):\n",
    "    \"\"\"\n",
    "    Gộp các điểm trong mỗi Khoản thành nhiều chunk sao cho mỗi chunk không vượt quá max_length ký tự.\n",
    "    \"\"\"\n",
    "    all_diem_chunks = []\n",
    "    pattern = r\"(?m)^[a-z]\\)\"  # điểm bắt đầu bằng a), b), ...\n",
    "\n",
    "    for khoan in khoan_chunks:\n",
    "        content = khoan[\"content\"]\n",
    "        matches = list(re.finditer(pattern, content))\n",
    "\n",
    "        # Nếu không có điểm nào, giữ nguyên nội dung\n",
    "        if not matches:\n",
    "            all_diem_chunks.append({\n",
    "                \"chuong\": khoan[\"chuong\"],\n",
    "                \"muc\": khoan[\"muc\"],\n",
    "                \"dieu\": khoan[\"dieu\"],\n",
    "                \"khoan\": khoan[\"khoan\"],\n",
    "                \"content\": content.strip()\n",
    "            })\n",
    "            continue\n",
    "\n",
    "        # Cắt từng điểm riêng biệt\n",
    "        diem_texts = []\n",
    "        for i in range(len(matches)):\n",
    "            start = matches[i].start()\n",
    "            end = matches[i + 1].start() if i + 1 < len(matches) else len(content)\n",
    "            diem_text = content[start:end].strip()\n",
    "            diem_texts.append(diem_text)\n",
    "\n",
    "        # Gom nhóm điểm sao cho mỗi nhóm không vượt quá max_length\n",
    "        current_chunk = \"\"\n",
    "        for diem in diem_texts:\n",
    "            if len(current_chunk) + len(diem) + 1 > max_length:\n",
    "                if current_chunk:\n",
    "                    all_diem_chunks.append({\n",
    "                        \"chuong\": khoan[\"chuong\"],\n",
    "                        \"muc\": khoan[\"muc\"],\n",
    "                        \"dieu\": khoan[\"dieu\"],\n",
    "                        \"khoan\": khoan[\"khoan\"],\n",
    "                        \"content\": current_chunk.strip()\n",
    "                    })\n",
    "                current_chunk = diem\n",
    "            else:\n",
    "                current_chunk += \"\\n\" + diem if current_chunk else diem\n",
    "\n",
    "        # Thêm chunk cuối nếu còn dư\n",
    "        if current_chunk:\n",
    "            all_diem_chunks.append({\n",
    "                \"chuong\": khoan[\"chuong\"],\n",
    "                \"muc\": khoan[\"muc\"],\n",
    "                \"dieu\": khoan[\"dieu\"],\n",
    "                \"khoan\": khoan[\"khoan\"],\n",
    "                \"content\": current_chunk.strip()\n",
    "            })\n",
    "\n",
    "    return all_diem_chunks\n"
   ]
  },
  {
   "cell_type": "code",
   "execution_count": 25,
   "id": "f1042f14-039b-4f6a-b4ed-f9fc66b75ecc",
   "metadata": {
    "execution": {
     "iopub.execute_input": "2025-05-21T12:26:14.752496Z",
     "iopub.status.busy": "2025-05-21T12:26:14.752224Z",
     "iopub.status.idle": "2025-05-21T12:26:14.773000Z",
     "shell.execute_reply": "2025-05-21T12:26:14.772349Z",
     "shell.execute_reply.started": "2025-05-21T12:26:14.752472Z"
    },
    "trusted": true
   },
   "outputs": [],
   "source": [
    "diem_chunks = split_by_diem_dynamic_length(khoan_chunks)"
   ]
  },
  {
   "cell_type": "code",
   "execution_count": null,
   "id": "2470ad0a-f4b2-49fd-a3d3-5997159d37e8",
   "metadata": {
    "trusted": true
   },
   "outputs": [],
   "source": [
    "print(f\"----- Tổng cộng có: {len(diem_chunks)} chunk -----\")\n",
    "for diem in diem_chunks[:20]:\n",
    "    print(\"----Chunk----\")\n",
    "    print(diem['content'])"
   ]
  },
  {
   "cell_type": "code",
   "execution_count": 27,
   "id": "a4bcabee-a636-40d7-a7bf-d5ea17893588",
   "metadata": {
    "execution": {
     "iopub.execute_input": "2025-05-21T12:26:14.797079Z",
     "iopub.status.busy": "2025-05-21T12:26:14.796500Z",
     "iopub.status.idle": "2025-05-21T12:26:14.815686Z",
     "shell.execute_reply": "2025-05-21T12:26:14.814802Z",
     "shell.execute_reply.started": "2025-05-21T12:26:14.797060Z"
    },
    "trusted": true
   },
   "outputs": [],
   "source": [
    "documents_with_context = []\n",
    "for chunk in diem_chunks:\n",
    "    full_text = \"\"\n",
    "    if chunk.get(\"dieu\"):\n",
    "        full_text += f\"{chunk['dieu']}\\n\"\n",
    "    if chunk.get(\"khoan\"):\n",
    "        full_text += f\"{chunk['khoan']}\\n\"\n",
    "    full_text += chunk[\"content\"]\n",
    "\n",
    "    documents_with_context.append(\n",
    "        Document(page_content=full_text, metadata={\n",
    "            \"chuong\": chunk.get(\"chuong\", \"\"),\n",
    "            \"muc\": chunk.get(\"muc\", \"\"),\n",
    "            \"dieu\": chunk.get(\"dieu\", \"\"),\n",
    "            \"khoan\": chunk.get(\"khoan\", \"\"),\n",
    "        })\n",
    "    )"
   ]
  },
  {
   "cell_type": "code",
   "execution_count": 28,
   "id": "20210462-cfd2-44f4-9632-8c586aa73525",
   "metadata": {
    "execution": {
     "iopub.execute_input": "2025-05-21T12:26:14.817104Z",
     "iopub.status.busy": "2025-05-21T12:26:14.816570Z",
     "iopub.status.idle": "2025-05-21T12:26:14.831262Z",
     "shell.execute_reply": "2025-05-21T12:26:14.830461Z",
     "shell.execute_reply.started": "2025-05-21T12:26:14.817080Z"
    },
    "trusted": true
   },
   "outputs": [
    {
     "name": "stdout",
     "output_type": "stream",
     "text": [
      "page_content='Điều 1. Phạm vi điều chỉnh\n",
      "1. Nghị định này quy định về:\n",
      "a) Xử phạt vi phạm hành chính về trật tự, an toàn giao thông trong lĩnh vực giao thông đường bộ bao\n",
      "gồm: hành vi vi phạm hành chính; hình thức, mức xử phạt, biện pháp khắc phục hậu quả đối với từng\n",
      "hành vi vi phạm hành chính; thẩm quyền lập biên bản, thẩm quyền xử phạt, mức phạt tiền cụ thể theo\n",
      "từng chức danh đối với hành vi vi phạm hành chính về trật tự, an toàn giao thông trong lĩnh vực giao\n",
      "thông đường bộ;\n",
      "b) Mức trừ điểm giấy phép lái xe đối với từng hành vi vi phạm hành chính; trình tự, thủ tục, thẩm quyền\n",
      "trừ điểm, phục hồi điểm giấy phép lái xe để quản lý việc chấp hành pháp luật về trật tự, an toàn giao\n",
      "thông đường bộ của người lái xe.' metadata={'chuong': 'Chương I\\nNHỮNG QUY ĐỊNH CHUNG', 'muc': None, 'dieu': 'Điều 1. Phạm vi điều chỉnh', 'khoan': '1. Nghị định này quy định về:'}\n"
     ]
    }
   ],
   "source": [
    "print(documents_with_context[0])"
   ]
  },
  {
   "cell_type": "code",
   "execution_count": 29,
   "id": "03316fcf-16d7-4296-b644-c72a725dc08e",
   "metadata": {
    "execution": {
     "iopub.execute_input": "2025-05-21T12:26:14.832872Z",
     "iopub.status.busy": "2025-05-21T12:26:14.832183Z",
     "iopub.status.idle": "2025-05-21T12:26:26.904216Z",
     "shell.execute_reply": "2025-05-21T12:26:26.903544Z",
     "shell.execute_reply.started": "2025-05-21T12:26:14.832853Z"
    },
    "trusted": true
   },
   "outputs": [
    {
     "data": {
      "application/vnd.jupyter.widget-view+json": {
       "model_id": "1507333cfc2a46db97c32a9793fdf41e",
       "version_major": 2,
       "version_minor": 0
      },
      "text/plain": [
       "Batches:   0%|          | 0/15 [00:00<?, ?it/s]"
      ]
     },
     "metadata": {},
     "output_type": "display_data"
    }
   ],
   "source": [
    "client_settings = Settings(\n",
    "    persist_directory=\"chroma_db_new\",\n",
    "    is_persistent=True,\n",
    ")\n",
    "\n",
    "chroma_db = Chroma.from_documents(\n",
    "    documents=documents_with_context,\n",
    "    embedding=embedding_model,\n",
    "    client_settings=client_settings,\n",
    ")"
   ]
  },
  {
   "cell_type": "code",
   "execution_count": null,
   "id": "8e5d4078-dd89-4bf1-8546-99153caad2c5",
   "metadata": {
    "execution": {
     "iopub.execute_input": "2025-05-21T12:26:26.906030Z",
     "iopub.status.busy": "2025-05-21T12:26:26.905156Z",
     "iopub.status.idle": "2025-05-21T12:26:26.910592Z",
     "shell.execute_reply": "2025-05-21T12:26:26.910007Z",
     "shell.execute_reply.started": "2025-05-21T12:26:26.906005Z"
    },
    "trusted": true
   },
   "outputs": [],
   "source": [
    "def rewrite_query(user_query):\n",
    "    # API key của bạn trên GeminiGemini\n",
    "    client = genai.Client(api_key=\"\")\n",
    "    \n",
    "    prompt = f\"\"\"\n",
    "    Bạn là một chuyên gia pháp lý, am hiểu sâu sắc về văn bản quy phạm pháp luật.\n",
    "    \n",
    "    Nhiệm vụ của bạn là chuyển đổi câu hỏi của người dân thành một truy vấn phù hợp với phong cách hành chính – pháp lý, bảo đảm:\n",
    "    - Văn phong trang trọng, chính xác, không sử dụng đại từ nhân xưng (tôi, bạn...).\n",
    "    - Câu văn ngắn gọn, mạch lạc, theo cấu trúc ngôn ngữ pháp lý chuẩn.\n",
    "    - Làm rõ chủ thể, hành vi và mối quan hệ với quy định trong nghị định.\n",
    "    - Không thêm thông tin không có trong câu hỏi gốc.\n",
    "    \n",
    "    Ví dụ:\n",
    "    Câu hỏi gốc: \"Vượt đèn đỏ bị phạt bao nhiêu tiền?\"\n",
    "    Câu hỏi pháp lý: Mức phạt tiền đối với hành vi vi phạm vượt đèn tín hiệu giao thông khi đèn đang ở trạng thái đỏ được quy định như thế nào?\n",
    "    \n",
    "    Câu hỏi gốc: \"Hành vi đi ngược chiều sẽ bị xử phạt như thế nào?\"\n",
    "    Câu hỏi pháp lý: \"Mức xử phạt vi phạm hành chính đối với hành vi điều khiển phương tiện giao thông đi ngược chiều được quy định như thế nào theo pháp luật hiện hành?\"\n",
    "    \n",
    "    Câu hỏi gốc: \"{user_query}\"\n",
    "    Hãy viết lại câu hỏi này theo văn phong của văn bản pháp luật.\n",
    "    \"\"\"\n",
    "    \n",
    "    response = client.models.generate_content(\n",
    "        model=\"gemini-2.0-flash\", contents=prompt\n",
    "    )\n",
    "    \n",
    "    return response.text"
   ]
  },
  {
   "cell_type": "code",
   "execution_count": 48,
   "id": "ae3eea5f-e606-4578-b003-cf6144229774",
   "metadata": {
    "execution": {
     "iopub.execute_input": "2025-05-21T12:54:07.589378Z",
     "iopub.status.busy": "2025-05-21T12:54:07.588858Z",
     "iopub.status.idle": "2025-05-21T12:54:08.230364Z",
     "shell.execute_reply": "2025-05-21T12:54:08.229699Z",
     "shell.execute_reply.started": "2025-05-21T12:54:07.589355Z"
    },
    "trusted": true
   },
   "outputs": [
    {
     "name": "stdout",
     "output_type": "stream",
     "text": [
      "Mức xử phạt vi phạm hành chính đối với hành vi điều khiển xe ô tô đi ngược chiều được quy định như thế nào?\n",
      "\n"
     ]
    }
   ],
   "source": [
    "query = \"Ô tô đi ngược chiều sẽ bị phạt bao nhiêu tiền?\"\n",
    "rewritten_query = rewrite_query(query)\n",
    "print(rewritten_query)"
   ]
  },
  {
   "cell_type": "code",
   "execution_count": 49,
   "id": "60366c7d-51f6-4076-a14b-c35a9afb797d",
   "metadata": {
    "execution": {
     "iopub.execute_input": "2025-05-21T12:54:08.231844Z",
     "iopub.status.busy": "2025-05-21T12:54:08.231643Z",
     "iopub.status.idle": "2025-05-21T12:54:08.235689Z",
     "shell.execute_reply": "2025-05-21T12:54:08.234946Z",
     "shell.execute_reply.started": "2025-05-21T12:54:08.231828Z"
    },
    "trusted": true
   },
   "outputs": [],
   "source": [
    "retriever = chroma_db.as_retriever(search_kwargs={\"k\": 4})"
   ]
  },
  {
   "cell_type": "code",
   "execution_count": 50,
   "id": "1c7dcbf5-ebe7-4e71-b1c6-c292c0c6aae2",
   "metadata": {
    "execution": {
     "iopub.execute_input": "2025-05-21T12:54:08.236664Z",
     "iopub.status.busy": "2025-05-21T12:54:08.236419Z",
     "iopub.status.idle": "2025-05-21T12:54:08.290821Z",
     "shell.execute_reply": "2025-05-21T12:54:08.290246Z",
     "shell.execute_reply.started": "2025-05-21T12:54:08.236648Z"
    },
    "trusted": true
   },
   "outputs": [
    {
     "data": {
      "application/vnd.jupyter.widget-view+json": {
       "model_id": "bee07878abc3423e91af624f6354962e",
       "version_major": 2,
       "version_minor": 0
      },
      "text/plain": [
       "Batches:   0%|          | 0/1 [00:00<?, ?it/s]"
      ]
     },
     "metadata": {},
     "output_type": "display_data"
    },
    {
     "name": "stdout",
     "output_type": "stream",
     "text": [
      "Điều 8. Xử phạt người điều khiển xe máy chuyên dùng vi phạm quy tắc giao thông đường bộ\n",
      "7. Phạt liền từ 6.000.000 đồng đến 8.000.000 đồng đối với người điều khiển xe thực hiện một trong các hành vi vi phạm sau đây:\n",
      "a) Điều khiển xe trên đường mà trong máu hoặc hơi thở có nồng độ cồn vượt quá 50 miligam đến 80\n",
      "miligam/100 mililít máu hoặc vượt quá 0,25 miligam đến 0,4 miligam/1 lít khí thở;\n",
      "b) Không chấp hành hiệu lệnh, hướng dẫn của người điều khiển giao thông hoặc người kiểm soát giao\n",
      "thông;\n",
      "c) Không chấp hành hiệu lệnh của đèn tín hiệu giao thông;\n",
      "d) Đi ngược chiều của đường một chiều, đi ngược chiều trên đường có biển “Cấm đi ngược chiều”, trừ\n",
      "các hành vi vi phạm quy định tại điểm đ khoản 9 Điều này và các trường hợp xe ưu tiên đang đi làm\n",
      "nhiệm vụ khẩn cấp theo quy định.\n",
      "-------------\n",
      "Điều 7. Xử phạt, trừ điểm giấy phép lái của người điều khiển xe mô tô, xe gắn máy, các loại xe tương tự xe mô tô và các loại xe tương tự xe gắn máy vi phạm quy tắc giao thông đường bộ\n",
      "7. Phạt tiền từ 4.000.000 đồng đến 6.000.000 đồng đối với người điều khiển xe thực hiện một trong các hành vi vi phạm sau đây:\n",
      "a) Đi ngược chiều của đường một chiều, đi ngược chiều trên đường có biển “Cấm đi ngược chiều”, trừ\n",
      "hành vi vi phạm quy định tại điểm b khoản này và các trường hợp xe ưu tiên đang đi làm nhiệm vụ khẩn\n",
      "cấp theo quy định; điều khiển xe đi trên vỉa hè, trừ trường hợp điều khiển xe đi qua vỉa hè để vào nhà, cơ\n",
      "quan;\n",
      "b) Điều khiển xe đi vào đường cao tốc, trừ xe phục vụ việc quản lý, bảo trì đường cao tốc;\n",
      "c) Không chấp hành hiệu lệnh của đèn tín hiệu giao thông;\n",
      "d) Không chấp hành hiệu lệnh, hướng dẫn của người điều khiển giao thông hoặc người kiểm soát giao\n",
      "thông;\n",
      "đ) Không nhường đường hoặc gây cản trở xe được quyền ưu tiên đang phát tín hiệu ưu tiên đi làm nhiệm\n",
      "vụ.\n",
      "-------------\n",
      "Điều 6. Xử phạt, trừ điểm giấy phép lái xe của người điều khiển xe ô tô, xe chở người bốn bánh có gắn động cơ, xe chở hàng bốn bánh có gắn động cơ và các loại xe tương tự xe ô tô vi phạm quy tắc giao thông đường bộ\n",
      "9. Phạt tiền từ 18.000.000 đồng đến 20.000.000 đồng đối với người điều khiển xe thực hiện một trong các hành vi vi phạm sau đây:\n",
      "a) Điều khiển xe trên đường mà trong máu hoặc hơi thở có nồng độ cồn vượt quá 50 miligam đến 80\n",
      "miligam/100 mililít máu hoặc vượt quá 0,25 miligam đến 0,4 miligam/1 lít khí thở;\n",
      "b) Không chấp hành hiệu lệnh của đèn tín hiệu giao thông;\n",
      "c) Không chấp hành hiệu lệnh, hướng dẫn của người điều khiển giao thông hoặc người kiểm soát giao\n",
      "thông;\n",
      "d) Đi ngược chiều của đường một chiều, đi ngược chiều trên đường có biển \"Cấm đi ngược chiều”, trừ\n",
      "các hành vi vi phạm quy định tại điểm đ khoản 11 Điều này và các trường hợp xe ưu tiên đang đi làm\n",
      "nhiệm vụ khẩn cấp theo quy định.\n",
      "-------------\n",
      "Điều 8. Xử phạt người điều khiển xe máy chuyên dùng vi phạm quy tắc giao thông đường bộ\n",
      "9. Phạt tiền từ 18.000.000 đồng đến 20.000.000 đồng đối với người điều khiển xe thực hiện một trong các hành vi vi phạm sau đây:\n",
      "a) Điều khiển xe trên đường mà trong máu hoặc hơi thở có nồng độ cồn vượt quá 80 miligam/100 mililít\n",
      "máu hoặc vượt quá 0,4 miligam/1 lít khí thở;\n",
      "b) Không chấp hành yêu cầu kiểm tra về nồng độ cồn của người thi hành công vụ;\n",
      "c) Điều khiển xe trên đường mà trong cơ thể có chất ma túy hoặc chất kích thích khác mà pháp luật cấm\n",
      "sử dụng;\n",
      "d) Không chấp hành yêu cầu kiểm tra về chất ma túy hoặc chất kích thích khác mà pháp luật cấm sử\n",
      "dụng của người thi hành công vụ;\n",
      "đ) Lùi xe trên đường cao tốc; đi ngược chiều trên đường cao tốc; quay đầu xe trên đường cao tốc;\n",
      "e) Vi phạm quy định tại điểm b khoản 8 Điều này mà gây tai nạn giao thông.\n",
      "-------------\n"
     ]
    }
   ],
   "source": [
    "docs = retriever.get_relevant_documents(rewritten_query) # Hoặc chroma_db.similarity_search(query)\n",
    "\n",
    "for doc in docs:\n",
    "    print(doc.page_content)\n",
    "    print(\"-------------\")\n"
   ]
  },
  {
   "cell_type": "code",
   "execution_count": null,
   "id": "1c63c870-1e82-483e-b1ee-b897b50020ca",
   "metadata": {
    "execution": {
     "iopub.execute_input": "2025-05-21T12:54:08.292394Z",
     "iopub.status.busy": "2025-05-21T12:54:08.292172Z",
     "iopub.status.idle": "2025-05-21T12:54:15.600801Z",
     "shell.execute_reply": "2025-05-21T12:54:15.600027Z",
     "shell.execute_reply.started": "2025-05-21T12:54:08.292379Z"
    },
    "trusted": true
   },
   "outputs": [
    {
     "name": "stdout",
     "output_type": "stream",
     "text": [
      "Câu trả lời: <think>\n",
      "Được, tôi cần trả lời câu hỏi về mức xử phạt vi phạm hành chính đối với hành vi điều khiển xe ô tô đi ngược chiều. Đầu tiên, tôi xem xét các điều khoản trong Nghị định 168 mà người dùng đã cung cấp.\n",
      "\n",
      "Trong Điều 6, khoản 9 điểm d có đề cập đến việc xử phạt từ 18.000.000 đến 20.000.000 đồng đối với hành vi đi ngược chiều trên đường một chiều hoặc đường có biển cấm đi ngược chiều, trừ các trường hợp xe ưu tiên khẩn cấp. Điều này áp dụng cho xe ô tô.\n",
      "\n",
      "Tôi cũng kiểm tra Điều 8 và Điều 7 để đảm bảo không có quy định nào khác liên quan đến xe ô tô đi ngược chiều. Điều 8 khoản 7 và 9 đề cập đến xe máy chuyên dùng, trong khi Điều 7 khoản 7 liên quan đến xe mô tô, xe gắn máy. Do đó, không ảnh hưởng đến câu trả lời về xe ô tô.\n",
      "\n",
      "Vì vậy, mức phạt chính xác cho xe ô tô đi ngược chiều là từ 18 đến 20 triệu đồng theo Điều 6 khoản 9 điểm d.\n",
      "</think>\n",
      "\n",
      "Mức xử phạt vi phạm hành chính đối với hành vi điều khiển xe ô tô đi ngược chiều được quy định tại Điều 6 khoản 9 điểm d của Nghị định 168. Cụ thể, mức phạt là từ 18.000.000 đồng đến 20.000.000 đồng.\n"
     ]
    }
   ],
   "source": [
    "# Thay thế bằng API Key của bạn trên Groq\n",
    "API_KEY = \"\"\n",
    "\n",
    "# Chọn mô hình phù hợp\n",
    "MODEL = \"deepseek-r1-distill-llama-70b\" \n",
    "\n",
    "# Các đoạn văn bản liên quan\n",
    "context_1, context_2, context_3, context_4 = [doc.page_content for doc in docs]\n",
    "\n",
    "# Tạo prompt cho mô hình\n",
    "prompt = f\"\"\"Bạn là trợ lý pháp lý thông minh. Dựa trên ngữ cảnh sau, hãy trả lời câu hỏi một cách ngắn gọn và chính xác. Nếu không đủ thông tin, hãy nói rõ.\n",
    "\n",
    "Ngữ cảnh: Được lấy từ nghị định 168\n",
    "{context_1}\n",
    "{context_2}\n",
    "{context_3}\n",
    "{context_4}\n",
    "\n",
    "Câu hỏi: {rewritten_query}\n",
    "\n",
    "Trả lời:\"\"\"\n",
    "\n",
    "# Cấu hình yêu cầu đến Groq API\n",
    "url = \"https://api.groq.com/openai/v1/chat/completions\"\n",
    "headers = {\n",
    "    \"Authorization\": f\"Bearer {API_KEY}\",\n",
    "    \"Content-Type\": \"application/json\"\n",
    "}\n",
    "payload = {\n",
    "    \"model\": MODEL,\n",
    "    \"messages\": [\n",
    "        {\"role\": \"system\", \"content\": \"Bạn là trợ lý pháp lý thông minh.\"},\n",
    "        {\"role\": \"user\", \"content\": prompt}\n",
    "    ],\n",
    "    \"temperature\": 0.2,\n",
    "    \"top_p\": 1.0,\n",
    "    \"stream\": False\n",
    "}\n",
    "\n",
    "# Gửi yêu cầu và xử lý phản hồi\n",
    "response = requests.post(url, headers=headers, json=payload)\n",
    "if response.status_code == 200:\n",
    "    result = response.json()\n",
    "    answer = result['choices'][0]['message']['content'].strip()\n",
    "    print(\"Câu trả lời:\", answer)\n",
    "else:\n",
    "    print(\"Lỗi:\", response.status_code, response.text)\n"
   ]
  }
 ],
 "metadata": {
  "kaggle": {
   "accelerator": "gpu",
   "dataSources": [
    {
     "datasetId": 7436799,
     "sourceId": 11837051,
     "sourceType": "datasetVersion"
    }
   ],
   "dockerImageVersionId": 31041,
   "isGpuEnabled": true,
   "isInternetEnabled": true,
   "language": "python",
   "sourceType": "notebook"
  },
  "kernelspec": {
   "display_name": "Python 3",
   "language": "python",
   "name": "python3"
  },
  "language_info": {
   "codemirror_mode": {
    "name": "ipython",
    "version": 3
   },
   "file_extension": ".py",
   "mimetype": "text/x-python",
   "name": "python",
   "nbconvert_exporter": "python",
   "pygments_lexer": "ipython3",
   "version": "3.11.11"
  }
 },
 "nbformat": 4,
 "nbformat_minor": 5
}
